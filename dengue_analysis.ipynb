{
 "cells": [
  {
   "cell_type": "code",
   "execution_count": 58,
   "metadata": {},
   "outputs": [],
   "source": [
    "import numpy as np\n",
    "import pandas as pd\n",
    "import matplotlib.pyplot as plt\n",
    "import seaborn as sns"
   ]
  },
  {
   "cell_type": "code",
   "execution_count": 59,
   "metadata": {},
   "outputs": [],
   "source": [
    "df = pd.read_csv('dengue-dataset.csv')"
   ]
  },
  {
   "cell_type": "code",
   "execution_count": 60,
   "metadata": {},
   "outputs": [
    {
     "data": {
      "text/html": [
       "<div>\n",
       "<style scoped>\n",
       "    .dataframe tbody tr th:only-of-type {\n",
       "        vertical-align: middle;\n",
       "    }\n",
       "\n",
       "    .dataframe tbody tr th {\n",
       "        vertical-align: top;\n",
       "    }\n",
       "\n",
       "    .dataframe thead th {\n",
       "        text-align: right;\n",
       "    }\n",
       "</style>\n",
       "<table border=\"1\" class=\"dataframe\">\n",
       "  <thead>\n",
       "    <tr style=\"text-align: right;\">\n",
       "      <th></th>\n",
       "      <th>data</th>\n",
       "      <th>casos-confirmados</th>\n",
       "      <th>chuva</th>\n",
       "      <th>temperatura-media</th>\n",
       "      <th>temperatura-mininima</th>\n",
       "      <th>temperatura-maxima</th>\n",
       "    </tr>\n",
       "  </thead>\n",
       "  <tbody>\n",
       "    <tr>\n",
       "      <th>0</th>\n",
       "      <td>1998-01-01</td>\n",
       "      <td>237</td>\n",
       "      <td>179.2</td>\n",
       "      <td>25.7</td>\n",
       "      <td>20.2</td>\n",
       "      <td>28.1</td>\n",
       "    </tr>\n",
       "    <tr>\n",
       "      <th>1</th>\n",
       "      <td>1998-02-01</td>\n",
       "      <td>331</td>\n",
       "      <td>226.3</td>\n",
       "      <td>25.1</td>\n",
       "      <td>20.0</td>\n",
       "      <td>28.0</td>\n",
       "    </tr>\n",
       "    <tr>\n",
       "      <th>2</th>\n",
       "      <td>1998-03-01</td>\n",
       "      <td>562</td>\n",
       "      <td>149.1</td>\n",
       "      <td>24.8</td>\n",
       "      <td>22.4</td>\n",
       "      <td>27.2</td>\n",
       "    </tr>\n",
       "    <tr>\n",
       "      <th>3</th>\n",
       "      <td>1998-04-01</td>\n",
       "      <td>187</td>\n",
       "      <td>46.4</td>\n",
       "      <td>22.7</td>\n",
       "      <td>18.1</td>\n",
       "      <td>26.0</td>\n",
       "    </tr>\n",
       "    <tr>\n",
       "      <th>4</th>\n",
       "      <td>1998-05-01</td>\n",
       "      <td>32</td>\n",
       "      <td>88.3</td>\n",
       "      <td>19.2</td>\n",
       "      <td>15.7</td>\n",
       "      <td>22.9</td>\n",
       "    </tr>\n",
       "  </tbody>\n",
       "</table>\n",
       "</div>"
      ],
      "text/plain": [
       "         data  casos-confirmados  chuva  temperatura-media  \\\n",
       "0  1998-01-01                237  179.2               25.7   \n",
       "1  1998-02-01                331  226.3               25.1   \n",
       "2  1998-03-01                562  149.1               24.8   \n",
       "3  1998-04-01                187   46.4               22.7   \n",
       "4  1998-05-01                 32   88.3               19.2   \n",
       "\n",
       "   temperatura-mininima  temperatura-maxima  \n",
       "0                  20.2                28.1  \n",
       "1                  20.0                28.0  \n",
       "2                  22.4                27.2  \n",
       "3                  18.1                26.0  \n",
       "4                  15.7                22.9  "
      ]
     },
     "execution_count": 60,
     "metadata": {},
     "output_type": "execute_result"
    }
   ],
   "source": [
    "df.head()"
   ]
  },
  {
   "cell_type": "code",
   "execution_count": 81,
   "metadata": {},
   "outputs": [
    {
     "name": "stdout",
     "output_type": "stream",
     "text": [
      "<class 'pandas.core.frame.DataFrame'>\n",
      "RangeIndex: 204 entries, 0 to 203\n",
      "Data columns (total 9 columns):\n",
      " #   Column                Non-Null Count  Dtype  \n",
      "---  ------                --------------  -----  \n",
      " 0   data                  204 non-null    object \n",
      " 1   casos-confirmados     204 non-null    int64  \n",
      " 2   chuva                 196 non-null    float64\n",
      " 3   temperatura-media     204 non-null    float64\n",
      " 4   temperatura-mininima  204 non-null    float64\n",
      " 5   temperatura-maxima    204 non-null    float64\n",
      " 6   ano                   204 non-null    object \n",
      " 7   mes                   204 non-null    object \n",
      " 8   dia                   204 non-null    object \n",
      "dtypes: float64(4), int64(1), object(4)\n",
      "memory usage: 14.5+ KB\n"
     ]
    }
   ],
   "source": [
    "df.info()"
   ]
  },
  {
   "cell_type": "code",
   "execution_count": 61,
   "metadata": {},
   "outputs": [
    {
     "data": {
      "text/plain": [
       "data                    0\n",
       "casos-confirmados       0\n",
       "chuva                   8\n",
       "temperatura-media       0\n",
       "temperatura-mininima    0\n",
       "temperatura-maxima      0\n",
       "dtype: int64"
      ]
     },
     "execution_count": 61,
     "metadata": {},
     "output_type": "execute_result"
    }
   ],
   "source": [
    "df.isnull().sum()"
   ]
  },
  {
   "cell_type": "code",
   "execution_count": 62,
   "metadata": {},
   "outputs": [
    {
     "data": {
      "text/html": [
       "<div>\n",
       "<style scoped>\n",
       "    .dataframe tbody tr th:only-of-type {\n",
       "        vertical-align: middle;\n",
       "    }\n",
       "\n",
       "    .dataframe tbody tr th {\n",
       "        vertical-align: top;\n",
       "    }\n",
       "\n",
       "    .dataframe thead th {\n",
       "        text-align: right;\n",
       "    }\n",
       "</style>\n",
       "<table border=\"1\" class=\"dataframe\">\n",
       "  <thead>\n",
       "    <tr style=\"text-align: right;\">\n",
       "      <th></th>\n",
       "      <th>data</th>\n",
       "      <th>casos-confirmados</th>\n",
       "      <th>chuva</th>\n",
       "      <th>temperatura-media</th>\n",
       "      <th>temperatura-mininima</th>\n",
       "      <th>temperatura-maxima</th>\n",
       "    </tr>\n",
       "  </thead>\n",
       "  <tbody>\n",
       "    <tr>\n",
       "      <th>18</th>\n",
       "      <td>1999-07-01</td>\n",
       "      <td>1</td>\n",
       "      <td>NaN</td>\n",
       "      <td>19.6</td>\n",
       "      <td>17.1</td>\n",
       "      <td>22.1</td>\n",
       "    </tr>\n",
       "    <tr>\n",
       "      <th>19</th>\n",
       "      <td>1999-08-01</td>\n",
       "      <td>3</td>\n",
       "      <td>NaN</td>\n",
       "      <td>19.8</td>\n",
       "      <td>10.8</td>\n",
       "      <td>24.8</td>\n",
       "    </tr>\n",
       "    <tr>\n",
       "      <th>53</th>\n",
       "      <td>2002-06-01</td>\n",
       "      <td>50</td>\n",
       "      <td>NaN</td>\n",
       "      <td>20.9</td>\n",
       "      <td>18.7</td>\n",
       "      <td>22.9</td>\n",
       "    </tr>\n",
       "    <tr>\n",
       "      <th>79</th>\n",
       "      <td>2004-08-01</td>\n",
       "      <td>0</td>\n",
       "      <td>NaN</td>\n",
       "      <td>19.9</td>\n",
       "      <td>14.7</td>\n",
       "      <td>23.8</td>\n",
       "    </tr>\n",
       "    <tr>\n",
       "      <th>115</th>\n",
       "      <td>2007-08-01</td>\n",
       "      <td>17</td>\n",
       "      <td>NaN</td>\n",
       "      <td>20.8</td>\n",
       "      <td>18.0</td>\n",
       "      <td>23.5</td>\n",
       "    </tr>\n",
       "    <tr>\n",
       "      <th>126</th>\n",
       "      <td>2008-07-01</td>\n",
       "      <td>8</td>\n",
       "      <td>NaN</td>\n",
       "      <td>19.2</td>\n",
       "      <td>17.1</td>\n",
       "      <td>22.6</td>\n",
       "    </tr>\n",
       "    <tr>\n",
       "      <th>151</th>\n",
       "      <td>2010-08-01</td>\n",
       "      <td>10</td>\n",
       "      <td>NaN</td>\n",
       "      <td>19.6</td>\n",
       "      <td>13.5</td>\n",
       "      <td>24.3</td>\n",
       "    </tr>\n",
       "    <tr>\n",
       "      <th>175</th>\n",
       "      <td>2012-08-01</td>\n",
       "      <td>12</td>\n",
       "      <td>NaN</td>\n",
       "      <td>20.3</td>\n",
       "      <td>17.5</td>\n",
       "      <td>21.6</td>\n",
       "    </tr>\n",
       "  </tbody>\n",
       "</table>\n",
       "</div>"
      ],
      "text/plain": [
       "           data  casos-confirmados  chuva  temperatura-media  \\\n",
       "18   1999-07-01                  1    NaN               19.6   \n",
       "19   1999-08-01                  3    NaN               19.8   \n",
       "53   2002-06-01                 50    NaN               20.9   \n",
       "79   2004-08-01                  0    NaN               19.9   \n",
       "115  2007-08-01                 17    NaN               20.8   \n",
       "126  2008-07-01                  8    NaN               19.2   \n",
       "151  2010-08-01                 10    NaN               19.6   \n",
       "175  2012-08-01                 12    NaN               20.3   \n",
       "\n",
       "     temperatura-mininima  temperatura-maxima  \n",
       "18                   17.1                22.1  \n",
       "19                   10.8                24.8  \n",
       "53                   18.7                22.9  \n",
       "79                   14.7                23.8  \n",
       "115                  18.0                23.5  \n",
       "126                  17.1                22.6  \n",
       "151                  13.5                24.3  \n",
       "175                  17.5                21.6  "
      ]
     },
     "execution_count": 62,
     "metadata": {},
     "output_type": "execute_result"
    }
   ],
   "source": [
    "df[df['chuva'].isnull()]"
   ]
  },
  {
   "cell_type": "code",
   "execution_count": 63,
   "metadata": {},
   "outputs": [],
   "source": [
    "df[['ano','mes','dia']] = df['data'].str.split('-', expand = True)"
   ]
  },
  {
   "cell_type": "code",
   "execution_count": 71,
   "metadata": {},
   "outputs": [
    {
     "data": {
      "text/html": [
       "<div>\n",
       "<style scoped>\n",
       "    .dataframe tbody tr th:only-of-type {\n",
       "        vertical-align: middle;\n",
       "    }\n",
       "\n",
       "    .dataframe tbody tr th {\n",
       "        vertical-align: top;\n",
       "    }\n",
       "\n",
       "    .dataframe thead th {\n",
       "        text-align: right;\n",
       "    }\n",
       "</style>\n",
       "<table border=\"1\" class=\"dataframe\">\n",
       "  <thead>\n",
       "    <tr style=\"text-align: right;\">\n",
       "      <th></th>\n",
       "      <th>data</th>\n",
       "      <th>casos-confirmados</th>\n",
       "      <th>chuva</th>\n",
       "      <th>temperatura-media</th>\n",
       "      <th>temperatura-mininima</th>\n",
       "      <th>temperatura-maxima</th>\n",
       "      <th>ano</th>\n",
       "      <th>mes</th>\n",
       "      <th>dia</th>\n",
       "    </tr>\n",
       "  </thead>\n",
       "  <tbody>\n",
       "    <tr>\n",
       "      <th>0</th>\n",
       "      <td>1998-01-01</td>\n",
       "      <td>237</td>\n",
       "      <td>179.2</td>\n",
       "      <td>25.7</td>\n",
       "      <td>20.2</td>\n",
       "      <td>28.1</td>\n",
       "      <td>1998</td>\n",
       "      <td>01</td>\n",
       "      <td>01</td>\n",
       "    </tr>\n",
       "    <tr>\n",
       "      <th>1</th>\n",
       "      <td>1998-02-01</td>\n",
       "      <td>331</td>\n",
       "      <td>226.3</td>\n",
       "      <td>25.1</td>\n",
       "      <td>20.0</td>\n",
       "      <td>28.0</td>\n",
       "      <td>1998</td>\n",
       "      <td>02</td>\n",
       "      <td>01</td>\n",
       "    </tr>\n",
       "    <tr>\n",
       "      <th>2</th>\n",
       "      <td>1998-03-01</td>\n",
       "      <td>562</td>\n",
       "      <td>149.1</td>\n",
       "      <td>24.8</td>\n",
       "      <td>22.4</td>\n",
       "      <td>27.2</td>\n",
       "      <td>1998</td>\n",
       "      <td>03</td>\n",
       "      <td>01</td>\n",
       "    </tr>\n",
       "    <tr>\n",
       "      <th>3</th>\n",
       "      <td>1998-04-01</td>\n",
       "      <td>187</td>\n",
       "      <td>46.4</td>\n",
       "      <td>22.7</td>\n",
       "      <td>18.1</td>\n",
       "      <td>26.0</td>\n",
       "      <td>1998</td>\n",
       "      <td>04</td>\n",
       "      <td>01</td>\n",
       "    </tr>\n",
       "    <tr>\n",
       "      <th>4</th>\n",
       "      <td>1998-05-01</td>\n",
       "      <td>32</td>\n",
       "      <td>88.3</td>\n",
       "      <td>19.2</td>\n",
       "      <td>15.7</td>\n",
       "      <td>22.9</td>\n",
       "      <td>1998</td>\n",
       "      <td>05</td>\n",
       "      <td>01</td>\n",
       "    </tr>\n",
       "    <tr>\n",
       "      <th>...</th>\n",
       "      <td>...</td>\n",
       "      <td>...</td>\n",
       "      <td>...</td>\n",
       "      <td>...</td>\n",
       "      <td>...</td>\n",
       "      <td>...</td>\n",
       "      <td>...</td>\n",
       "      <td>...</td>\n",
       "      <td>...</td>\n",
       "    </tr>\n",
       "    <tr>\n",
       "      <th>199</th>\n",
       "      <td>2014-08-01</td>\n",
       "      <td>55</td>\n",
       "      <td>12.2</td>\n",
       "      <td>20.6</td>\n",
       "      <td>13.1</td>\n",
       "      <td>24.7</td>\n",
       "      <td>2014</td>\n",
       "      <td>08</td>\n",
       "      <td>01</td>\n",
       "    </tr>\n",
       "    <tr>\n",
       "      <th>200</th>\n",
       "      <td>2014-09-01</td>\n",
       "      <td>40</td>\n",
       "      <td>69.2</td>\n",
       "      <td>23.0</td>\n",
       "      <td>18.6</td>\n",
       "      <td>26.8</td>\n",
       "      <td>2014</td>\n",
       "      <td>09</td>\n",
       "      <td>01</td>\n",
       "    </tr>\n",
       "    <tr>\n",
       "      <th>201</th>\n",
       "      <td>2014-10-01</td>\n",
       "      <td>40</td>\n",
       "      <td>15.6</td>\n",
       "      <td>24.7</td>\n",
       "      <td>17.2</td>\n",
       "      <td>30.0</td>\n",
       "      <td>2014</td>\n",
       "      <td>10</td>\n",
       "      <td>01</td>\n",
       "    </tr>\n",
       "    <tr>\n",
       "      <th>202</th>\n",
       "      <td>2014-11-01</td>\n",
       "      <td>57</td>\n",
       "      <td>154.8</td>\n",
       "      <td>25.0</td>\n",
       "      <td>22.1</td>\n",
       "      <td>28.3</td>\n",
       "      <td>2014</td>\n",
       "      <td>11</td>\n",
       "      <td>01</td>\n",
       "    </tr>\n",
       "    <tr>\n",
       "      <th>203</th>\n",
       "      <td>2014-12-01</td>\n",
       "      <td>37</td>\n",
       "      <td>232.8</td>\n",
       "      <td>24.9</td>\n",
       "      <td>21.3</td>\n",
       "      <td>27.8</td>\n",
       "      <td>2014</td>\n",
       "      <td>12</td>\n",
       "      <td>01</td>\n",
       "    </tr>\n",
       "  </tbody>\n",
       "</table>\n",
       "<p>204 rows × 9 columns</p>\n",
       "</div>"
      ],
      "text/plain": [
       "           data  casos-confirmados  chuva  temperatura-media  \\\n",
       "0    1998-01-01                237  179.2               25.7   \n",
       "1    1998-02-01                331  226.3               25.1   \n",
       "2    1998-03-01                562  149.1               24.8   \n",
       "3    1998-04-01                187   46.4               22.7   \n",
       "4    1998-05-01                 32   88.3               19.2   \n",
       "..          ...                ...    ...                ...   \n",
       "199  2014-08-01                 55   12.2               20.6   \n",
       "200  2014-09-01                 40   69.2               23.0   \n",
       "201  2014-10-01                 40   15.6               24.7   \n",
       "202  2014-11-01                 57  154.8               25.0   \n",
       "203  2014-12-01                 37  232.8               24.9   \n",
       "\n",
       "     temperatura-mininima  temperatura-maxima   ano mes dia  \n",
       "0                    20.2                28.1  1998  01  01  \n",
       "1                    20.0                28.0  1998  02  01  \n",
       "2                    22.4                27.2  1998  03  01  \n",
       "3                    18.1                26.0  1998  04  01  \n",
       "4                    15.7                22.9  1998  05  01  \n",
       "..                    ...                 ...   ...  ..  ..  \n",
       "199                  13.1                24.7  2014  08  01  \n",
       "200                  18.6                26.8  2014  09  01  \n",
       "201                  17.2                30.0  2014  10  01  \n",
       "202                  22.1                28.3  2014  11  01  \n",
       "203                  21.3                27.8  2014  12  01  \n",
       "\n",
       "[204 rows x 9 columns]"
      ]
     },
     "execution_count": 71,
     "metadata": {},
     "output_type": "execute_result"
    }
   ],
   "source": [
    "df"
   ]
  },
  {
   "cell_type": "code",
   "execution_count": 74,
   "metadata": {},
   "outputs": [
    {
     "data": {
      "text/plain": [
       "mes\n",
       "01    282.570588\n",
       "02    166.111765\n",
       "03    142.900000\n",
       "04     66.317647\n",
       "05     60.911765\n",
       "06     45.706250\n",
       "07     47.386667\n",
       "08     32.208333\n",
       "09     54.182353\n",
       "10    105.635294\n",
       "11    151.847059\n",
       "12    206.864706\n",
       "Name: chuva, dtype: float64"
      ]
     },
     "execution_count": 74,
     "metadata": {},
     "output_type": "execute_result"
    }
   ],
   "source": [
    "df.groupby('mes').mean()['chuva]"
   ]
  },
  {
   "cell_type": "code",
   "execution_count": 89,
   "metadata": {},
   "outputs": [],
   "source": [
    "df.loc[[18, 126]] = df.loc[[18, 126]].fillna(47.38)"
   ]
  },
  {
   "cell_type": "code",
   "execution_count": 92,
   "metadata": {},
   "outputs": [],
   "source": [
    "df.loc[[19, 79, 115, 151, 175]] = df.loc[[19, 79, 115, 151, 175]].fillna(32.20)"
   ]
  },
  {
   "cell_type": "code",
   "execution_count": 95,
   "metadata": {},
   "outputs": [],
   "source": [
    "df.loc[53] = df.loc[53].fillna(45.70)"
   ]
  },
  {
   "cell_type": "code",
   "execution_count": 97,
   "metadata": {},
   "outputs": [
    {
     "data": {
      "text/plain": [
       "data                    0\n",
       "casos-confirmados       0\n",
       "chuva                   0\n",
       "temperatura-media       0\n",
       "temperatura-mininima    0\n",
       "temperatura-maxima      0\n",
       "ano                     0\n",
       "mes                     0\n",
       "dia                     0\n",
       "dtype: int64"
      ]
     },
     "execution_count": 97,
     "metadata": {},
     "output_type": "execute_result"
    }
   ],
   "source": [
    "df.isnull().sum()"
   ]
  },
  {
   "cell_type": "code",
   "execution_count": 98,
   "metadata": {},
   "outputs": [
    {
     "data": {
      "text/html": [
       "<div>\n",
       "<style scoped>\n",
       "    .dataframe tbody tr th:only-of-type {\n",
       "        vertical-align: middle;\n",
       "    }\n",
       "\n",
       "    .dataframe tbody tr th {\n",
       "        vertical-align: top;\n",
       "    }\n",
       "\n",
       "    .dataframe thead th {\n",
       "        text-align: right;\n",
       "    }\n",
       "</style>\n",
       "<table border=\"1\" class=\"dataframe\">\n",
       "  <thead>\n",
       "    <tr style=\"text-align: right;\">\n",
       "      <th></th>\n",
       "      <th>data</th>\n",
       "      <th>casos-confirmados</th>\n",
       "      <th>chuva</th>\n",
       "      <th>temperatura-media</th>\n",
       "      <th>temperatura-mininima</th>\n",
       "      <th>temperatura-maxima</th>\n",
       "      <th>ano</th>\n",
       "      <th>mes</th>\n",
       "      <th>dia</th>\n",
       "    </tr>\n",
       "  </thead>\n",
       "  <tbody>\n",
       "    <tr>\n",
       "      <th>18</th>\n",
       "      <td>1999-07-01</td>\n",
       "      <td>1</td>\n",
       "      <td>47.38</td>\n",
       "      <td>19.6</td>\n",
       "      <td>17.1</td>\n",
       "      <td>22.1</td>\n",
       "      <td>1999</td>\n",
       "      <td>07</td>\n",
       "      <td>01</td>\n",
       "    </tr>\n",
       "    <tr>\n",
       "      <th>19</th>\n",
       "      <td>1999-08-01</td>\n",
       "      <td>3</td>\n",
       "      <td>32.20</td>\n",
       "      <td>19.8</td>\n",
       "      <td>10.8</td>\n",
       "      <td>24.8</td>\n",
       "      <td>1999</td>\n",
       "      <td>08</td>\n",
       "      <td>01</td>\n",
       "    </tr>\n",
       "    <tr>\n",
       "      <th>53</th>\n",
       "      <td>2002-06-01</td>\n",
       "      <td>50</td>\n",
       "      <td>45.70</td>\n",
       "      <td>20.9</td>\n",
       "      <td>18.7</td>\n",
       "      <td>22.9</td>\n",
       "      <td>2002</td>\n",
       "      <td>06</td>\n",
       "      <td>01</td>\n",
       "    </tr>\n",
       "    <tr>\n",
       "      <th>79</th>\n",
       "      <td>2004-08-01</td>\n",
       "      <td>0</td>\n",
       "      <td>32.20</td>\n",
       "      <td>19.9</td>\n",
       "      <td>14.7</td>\n",
       "      <td>23.8</td>\n",
       "      <td>2004</td>\n",
       "      <td>08</td>\n",
       "      <td>01</td>\n",
       "    </tr>\n",
       "    <tr>\n",
       "      <th>115</th>\n",
       "      <td>2007-08-01</td>\n",
       "      <td>17</td>\n",
       "      <td>32.20</td>\n",
       "      <td>20.8</td>\n",
       "      <td>18.0</td>\n",
       "      <td>23.5</td>\n",
       "      <td>2007</td>\n",
       "      <td>08</td>\n",
       "      <td>01</td>\n",
       "    </tr>\n",
       "    <tr>\n",
       "      <th>126</th>\n",
       "      <td>2008-07-01</td>\n",
       "      <td>8</td>\n",
       "      <td>47.38</td>\n",
       "      <td>19.2</td>\n",
       "      <td>17.1</td>\n",
       "      <td>22.6</td>\n",
       "      <td>2008</td>\n",
       "      <td>07</td>\n",
       "      <td>01</td>\n",
       "    </tr>\n",
       "    <tr>\n",
       "      <th>151</th>\n",
       "      <td>2010-08-01</td>\n",
       "      <td>10</td>\n",
       "      <td>32.20</td>\n",
       "      <td>19.6</td>\n",
       "      <td>13.5</td>\n",
       "      <td>24.3</td>\n",
       "      <td>2010</td>\n",
       "      <td>08</td>\n",
       "      <td>01</td>\n",
       "    </tr>\n",
       "    <tr>\n",
       "      <th>175</th>\n",
       "      <td>2012-08-01</td>\n",
       "      <td>12</td>\n",
       "      <td>32.20</td>\n",
       "      <td>20.3</td>\n",
       "      <td>17.5</td>\n",
       "      <td>21.6</td>\n",
       "      <td>2012</td>\n",
       "      <td>08</td>\n",
       "      <td>01</td>\n",
       "    </tr>\n",
       "  </tbody>\n",
       "</table>\n",
       "</div>"
      ],
      "text/plain": [
       "           data  casos-confirmados  chuva  temperatura-media  \\\n",
       "18   1999-07-01                  1  47.38               19.6   \n",
       "19   1999-08-01                  3  32.20               19.8   \n",
       "53   2002-06-01                 50  45.70               20.9   \n",
       "79   2004-08-01                  0  32.20               19.9   \n",
       "115  2007-08-01                 17  32.20               20.8   \n",
       "126  2008-07-01                  8  47.38               19.2   \n",
       "151  2010-08-01                 10  32.20               19.6   \n",
       "175  2012-08-01                 12  32.20               20.3   \n",
       "\n",
       "     temperatura-mininima  temperatura-maxima   ano mes dia  \n",
       "18                   17.1                22.1  1999  07  01  \n",
       "19                   10.8                24.8  1999  08  01  \n",
       "53                   18.7                22.9  2002  06  01  \n",
       "79                   14.7                23.8  2004  08  01  \n",
       "115                  18.0                23.5  2007  08  01  \n",
       "126                  17.1                22.6  2008  07  01  \n",
       "151                  13.5                24.3  2010  08  01  \n",
       "175                  17.5                21.6  2012  08  01  "
      ]
     },
     "execution_count": 98,
     "metadata": {},
     "output_type": "execute_result"
    }
   ],
   "source": [
    "df.loc[[18, 19, 53, 79, 115, 126, 151, 175]]"
   ]
  },
  {
   "cell_type": "code",
   "execution_count": 101,
   "metadata": {},
   "outputs": [],
   "source": [
    "df[['ano', 'mes', 'dia']] = df[['ano', 'mes', 'dia']].apply(pd.to_numeric)"
   ]
  },
  {
   "cell_type": "code",
   "execution_count": 102,
   "metadata": {},
   "outputs": [
    {
     "name": "stdout",
     "output_type": "stream",
     "text": [
      "<class 'pandas.core.frame.DataFrame'>\n",
      "RangeIndex: 204 entries, 0 to 203\n",
      "Data columns (total 9 columns):\n",
      " #   Column                Non-Null Count  Dtype  \n",
      "---  ------                --------------  -----  \n",
      " 0   data                  204 non-null    object \n",
      " 1   casos-confirmados     204 non-null    int64  \n",
      " 2   chuva                 204 non-null    float64\n",
      " 3   temperatura-media     204 non-null    float64\n",
      " 4   temperatura-mininima  204 non-null    float64\n",
      " 5   temperatura-maxima    204 non-null    float64\n",
      " 6   ano                   204 non-null    int64  \n",
      " 7   mes                   204 non-null    int64  \n",
      " 8   dia                   204 non-null    int64  \n",
      "dtypes: float64(4), int64(4), object(1)\n",
      "memory usage: 14.5+ KB\n"
     ]
    }
   ],
   "source": [
    "df.info()"
   ]
  },
  {
   "cell_type": "code",
   "execution_count": 106,
   "metadata": {},
   "outputs": [
    {
     "data": {
      "text/html": [
       "<div>\n",
       "<style scoped>\n",
       "    .dataframe tbody tr th:only-of-type {\n",
       "        vertical-align: middle;\n",
       "    }\n",
       "\n",
       "    .dataframe tbody tr th {\n",
       "        vertical-align: top;\n",
       "    }\n",
       "\n",
       "    .dataframe thead th {\n",
       "        text-align: right;\n",
       "    }\n",
       "</style>\n",
       "<table border=\"1\" class=\"dataframe\">\n",
       "  <thead>\n",
       "    <tr style=\"text-align: right;\">\n",
       "      <th></th>\n",
       "      <th>casos-confirmados</th>\n",
       "      <th>chuva</th>\n",
       "      <th>temperatura-media</th>\n",
       "      <th>temperatura-mininima</th>\n",
       "      <th>temperatura-maxima</th>\n",
       "      <th>ano</th>\n",
       "      <th>mes</th>\n",
       "      <th>dia</th>\n",
       "    </tr>\n",
       "  </thead>\n",
       "  <tbody>\n",
       "    <tr>\n",
       "      <th>count</th>\n",
       "      <td>204.000000</td>\n",
       "      <td>204.000000</td>\n",
       "      <td>204.000000</td>\n",
       "      <td>204.000000</td>\n",
       "      <td>204.000000</td>\n",
       "      <td>204.000000</td>\n",
       "      <td>204.000000</td>\n",
       "      <td>204.0</td>\n",
       "    </tr>\n",
       "    <tr>\n",
       "      <th>mean</th>\n",
       "      <td>357.539216</td>\n",
       "      <td>113.553235</td>\n",
       "      <td>22.200980</td>\n",
       "      <td>17.679412</td>\n",
       "      <td>25.565196</td>\n",
       "      <td>2006.000000</td>\n",
       "      <td>6.500000</td>\n",
       "      <td>1.0</td>\n",
       "    </tr>\n",
       "    <tr>\n",
       "      <th>std</th>\n",
       "      <td>1741.814759</td>\n",
       "      <td>95.957159</td>\n",
       "      <td>2.399363</td>\n",
       "      <td>3.336316</td>\n",
       "      <td>2.249864</td>\n",
       "      <td>4.911031</td>\n",
       "      <td>3.460545</td>\n",
       "      <td>0.0</td>\n",
       "    </tr>\n",
       "    <tr>\n",
       "      <th>min</th>\n",
       "      <td>0.000000</td>\n",
       "      <td>0.800000</td>\n",
       "      <td>16.400000</td>\n",
       "      <td>8.200000</td>\n",
       "      <td>19.100000</td>\n",
       "      <td>1998.000000</td>\n",
       "      <td>1.000000</td>\n",
       "      <td>1.0</td>\n",
       "    </tr>\n",
       "    <tr>\n",
       "      <th>25%</th>\n",
       "      <td>6.000000</td>\n",
       "      <td>40.125000</td>\n",
       "      <td>20.100000</td>\n",
       "      <td>15.075000</td>\n",
       "      <td>23.800000</td>\n",
       "      <td>2002.000000</td>\n",
       "      <td>3.750000</td>\n",
       "      <td>1.0</td>\n",
       "    </tr>\n",
       "    <tr>\n",
       "      <th>50%</th>\n",
       "      <td>17.500000</td>\n",
       "      <td>83.450000</td>\n",
       "      <td>22.700000</td>\n",
       "      <td>18.150000</td>\n",
       "      <td>26.200000</td>\n",
       "      <td>2006.000000</td>\n",
       "      <td>6.500000</td>\n",
       "      <td>1.0</td>\n",
       "    </tr>\n",
       "    <tr>\n",
       "      <th>75%</th>\n",
       "      <td>84.500000</td>\n",
       "      <td>176.425000</td>\n",
       "      <td>24.225000</td>\n",
       "      <td>20.400000</td>\n",
       "      <td>27.200000</td>\n",
       "      <td>2010.000000</td>\n",
       "      <td>9.250000</td>\n",
       "      <td>1.0</td>\n",
       "    </tr>\n",
       "    <tr>\n",
       "      <th>max</th>\n",
       "      <td>20428.000000</td>\n",
       "      <td>452.800000</td>\n",
       "      <td>27.200000</td>\n",
       "      <td>23.500000</td>\n",
       "      <td>30.100000</td>\n",
       "      <td>2014.000000</td>\n",
       "      <td>12.000000</td>\n",
       "      <td>1.0</td>\n",
       "    </tr>\n",
       "  </tbody>\n",
       "</table>\n",
       "</div>"
      ],
      "text/plain": [
       "       casos-confirmados       chuva  temperatura-media  temperatura-mininima  \\\n",
       "count         204.000000  204.000000         204.000000            204.000000   \n",
       "mean          357.539216  113.553235          22.200980             17.679412   \n",
       "std          1741.814759   95.957159           2.399363              3.336316   \n",
       "min             0.000000    0.800000          16.400000              8.200000   \n",
       "25%             6.000000   40.125000          20.100000             15.075000   \n",
       "50%            17.500000   83.450000          22.700000             18.150000   \n",
       "75%            84.500000  176.425000          24.225000             20.400000   \n",
       "max         20428.000000  452.800000          27.200000             23.500000   \n",
       "\n",
       "       temperatura-maxima          ano         mes    dia  \n",
       "count          204.000000   204.000000  204.000000  204.0  \n",
       "mean            25.565196  2006.000000    6.500000    1.0  \n",
       "std              2.249864     4.911031    3.460545    0.0  \n",
       "min             19.100000  1998.000000    1.000000    1.0  \n",
       "25%             23.800000  2002.000000    3.750000    1.0  \n",
       "50%             26.200000  2006.000000    6.500000    1.0  \n",
       "75%             27.200000  2010.000000    9.250000    1.0  \n",
       "max             30.100000  2014.000000   12.000000    1.0  "
      ]
     },
     "execution_count": 106,
     "metadata": {},
     "output_type": "execute_result"
    }
   ],
   "source": [
    "df.describe()"
   ]
  },
  {
   "cell_type": "code",
   "execution_count": 171,
   "metadata": {},
   "outputs": [],
   "source": [
    "df = df.drop(df[df['casos-confirmados'] > 5580].index)"
   ]
  },
  {
   "cell_type": "code",
   "execution_count": 173,
   "metadata": {},
   "outputs": [
    {
     "data": {
      "text/plain": [
       "mes\n",
       "1      84.294118\n",
       "2     271.764706\n",
       "3     504.437500\n",
       "4     667.125000\n",
       "5     360.187500\n",
       "6     142.411765\n",
       "7      21.529412\n",
       "8      11.176471\n",
       "9      10.000000\n",
       "10     11.588235\n",
       "11     12.588235\n",
       "12     20.705882\n",
       "Name: casos-confirmados, dtype: float64"
      ]
     },
     "execution_count": 173,
     "metadata": {},
     "output_type": "execute_result"
    }
   ],
   "source": [
    "df.groupby('mes').mean()['casos-confirmados']"
   ]
  },
  {
   "cell_type": "code",
   "execution_count": 198,
   "metadata": {},
   "outputs": [
    {
     "data": {
      "text/plain": [
       "<AxesSubplot:xlabel='mes', ylabel='casos-confirmados'>"
      ]
     },
     "execution_count": 198,
     "metadata": {},
     "output_type": "execute_result"
    },
    {
     "data": {
      "image/png": "[encoded data removed]",
      "text/plain": [
       "<Figure size 432x288 with 1 Axes>"
      ]
     },
     "metadata": {
      "needs_background": "light"
     },
     "output_type": "display_data"
    }
   ],
   "source": [
    "sns.barplot(x='mes',y='casos-confirmados',data=df,estimator=np.mean,ci=False)"
   ]
  },
  {
   "cell_type": "code",
   "execution_count": 210,
   "metadata": {},
   "outputs": [
    {
     "data": {
      "text/plain": [
       "<AxesSubplot:xlabel='mes', ylabel='chuva'>"
      ]
     },
     "execution_count": 210,
     "metadata": {},
     "output_type": "execute_result"
    },
    {
     "data": {
      "image/png": "[encoded data removed]",
      "text/plain": [
       "<Figure size 432x288 with 1 Axes>"
      ]
     },
     "metadata": {
      "needs_background": "light"
     },
     "output_type": "display_data"
    }
   ],
   "source": [
    "sns.barplot(x='mes',y='chuva',data=df,estimator=np.mean,ci=False)"
   ]
  },
  {
   "cell_type": "code",
   "execution_count": 207,
   "metadata": {},
   "outputs": [
    {
     "data": {
      "text/plain": [
       "<AxesSubplot:xlabel='mes', ylabel='temperatura-media'>"
      ]
     },
     "execution_count": 207,
     "metadata": {},
     "output_type": "execute_result"
    },
    {
     "data": {
      "image/png": "[encoded data removed]",
      "text/plain": [
       "<Figure size 432x288 with 1 Axes>"
      ]
     },
     "metadata": {
      "needs_background": "light"
     },
     "output_type": "display_data"
    }
   ],
   "source": [
    "sns.barplot(x='mes',y='temperatura-media',data=df,estimator=np.mean,ci=False)"
   ]
  },
  {
   "cell_type": "code",
   "execution_count": 315,
   "metadata": {},
   "outputs": [
    {
     "data": {
      "image/png": "[encoded data removed]",
      "text/plain": [
       "<Figure size 432x288 with 1 Axes>"
      ]
     },
     "metadata": {
      "needs_background": "light"
     },
     "output_type": "display_data"
    }
   ],
   "source": [
    "sns.barplot(x='ano',y='casos-confirmados',data=df,estimator=np.mean,ci=False)\n",
    "plt.xticks(rotation = 90);"
   ]
  },
  {
   "cell_type": "code",
   "execution_count": 314,
   "metadata": {},
   "outputs": [
    {
     "data": {
      "image/png": "[encoded data removed]",
      "text/plain": [
       "<Figure size 432x288 with 1 Axes>"
      ]
     },
     "metadata": {
      "needs_background": "light"
     },
     "output_type": "display_data"
    }
   ],
   "source": [
    "sns.barplot(x='ano',y='chuva',data=df,estimator=np.mean,ci=False)\n",
    "plt.xticks(rotation = 90);"
   ]
  },
  {
   "cell_type": "code",
   "execution_count": 316,
   "metadata": {},
   "outputs": [
    {
     "data": {
      "image/png": "[encoded data removed]",
      "text/plain": [
       "<Figure size 432x288 with 1 Axes>"
      ]
     },
     "metadata": {
      "needs_background": "light"
     },
     "output_type": "display_data"
    }
   ],
   "source": [
    "sns.barplot(x='ano',y='temperatura-media',data=df,estimator=np.mean,ci=False)\n",
    "plt.xticks(rotation = 90);"
   ]
  },
  {
   "cell_type": "code",
   "execution_count": 211,
   "metadata": {},
   "outputs": [],
   "source": [
    "def risco(casos):\n",
    "    if casos<100:\n",
    "        return 'baixo risco'\n",
    "    elif casos<200 :\n",
    "        return 'medio risco'\n",
    "    else:\n",
    "        return 'alto risco'\n",
    "   "
   ]
  },
  {
   "cell_type": "code",
   "execution_count": 212,
   "metadata": {},
   "outputs": [],
   "source": [
    "df['risco']=df['casos-confirmados'].apply(risco)"
   ]
  },
  {
   "cell_type": "code",
   "execution_count": 213,
   "metadata": {},
   "outputs": [
    {
     "data": {
      "text/html": [
       "<div>\n",
       "<style scoped>\n",
       "    .dataframe tbody tr th:only-of-type {\n",
       "        vertical-align: middle;\n",
       "    }\n",
       "\n",
       "    .dataframe tbody tr th {\n",
       "        vertical-align: top;\n",
       "    }\n",
       "\n",
       "    .dataframe thead th {\n",
       "        text-align: right;\n",
       "    }\n",
       "</style>\n",
       "<table border=\"1\" class=\"dataframe\">\n",
       "  <thead>\n",
       "    <tr style=\"text-align: right;\">\n",
       "      <th></th>\n",
       "      <th>data</th>\n",
       "      <th>casos-confirmados</th>\n",
       "      <th>chuva</th>\n",
       "      <th>temperatura-media</th>\n",
       "      <th>temperatura-mininima</th>\n",
       "      <th>temperatura-maxima</th>\n",
       "      <th>ano</th>\n",
       "      <th>mes</th>\n",
       "      <th>dia</th>\n",
       "      <th>risco</th>\n",
       "    </tr>\n",
       "  </thead>\n",
       "  <tbody>\n",
       "    <tr>\n",
       "      <th>0</th>\n",
       "      <td>1998-01-01</td>\n",
       "      <td>237</td>\n",
       "      <td>179.2</td>\n",
       "      <td>25.7</td>\n",
       "      <td>20.2</td>\n",
       "      <td>28.1</td>\n",
       "      <td>1998</td>\n",
       "      <td>1</td>\n",
       "      <td>1</td>\n",
       "      <td>alto risco</td>\n",
       "    </tr>\n",
       "    <tr>\n",
       "      <th>1</th>\n",
       "      <td>1998-02-01</td>\n",
       "      <td>331</td>\n",
       "      <td>226.3</td>\n",
       "      <td>25.1</td>\n",
       "      <td>20.0</td>\n",
       "      <td>28.0</td>\n",
       "      <td>1998</td>\n",
       "      <td>2</td>\n",
       "      <td>1</td>\n",
       "      <td>alto risco</td>\n",
       "    </tr>\n",
       "    <tr>\n",
       "      <th>2</th>\n",
       "      <td>1998-03-01</td>\n",
       "      <td>562</td>\n",
       "      <td>149.1</td>\n",
       "      <td>24.8</td>\n",
       "      <td>22.4</td>\n",
       "      <td>27.2</td>\n",
       "      <td>1998</td>\n",
       "      <td>3</td>\n",
       "      <td>1</td>\n",
       "      <td>alto risco</td>\n",
       "    </tr>\n",
       "    <tr>\n",
       "      <th>3</th>\n",
       "      <td>1998-04-01</td>\n",
       "      <td>187</td>\n",
       "      <td>46.4</td>\n",
       "      <td>22.7</td>\n",
       "      <td>18.1</td>\n",
       "      <td>26.0</td>\n",
       "      <td>1998</td>\n",
       "      <td>4</td>\n",
       "      <td>1</td>\n",
       "      <td>medio risco</td>\n",
       "    </tr>\n",
       "    <tr>\n",
       "      <th>4</th>\n",
       "      <td>1998-05-01</td>\n",
       "      <td>32</td>\n",
       "      <td>88.3</td>\n",
       "      <td>19.2</td>\n",
       "      <td>15.7</td>\n",
       "      <td>22.9</td>\n",
       "      <td>1998</td>\n",
       "      <td>5</td>\n",
       "      <td>1</td>\n",
       "      <td>baixo risco</td>\n",
       "    </tr>\n",
       "  </tbody>\n",
       "</table>\n",
       "</div>"
      ],
      "text/plain": [
       "         data  casos-confirmados  chuva  temperatura-media  \\\n",
       "0  1998-01-01                237  179.2               25.7   \n",
       "1  1998-02-01                331  226.3               25.1   \n",
       "2  1998-03-01                562  149.1               24.8   \n",
       "3  1998-04-01                187   46.4               22.7   \n",
       "4  1998-05-01                 32   88.3               19.2   \n",
       "\n",
       "   temperatura-mininima  temperatura-maxima   ano  mes  dia        risco  \n",
       "0                  20.2                28.1  1998    1    1   alto risco  \n",
       "1                  20.0                28.0  1998    2    1   alto risco  \n",
       "2                  22.4                27.2  1998    3    1   alto risco  \n",
       "3                  18.1                26.0  1998    4    1  medio risco  \n",
       "4                  15.7                22.9  1998    5    1  baixo risco  "
      ]
     },
     "execution_count": 213,
     "metadata": {},
     "output_type": "execute_result"
    }
   ],
   "source": [
    "df.head()"
   ]
  },
  {
   "cell_type": "code",
   "execution_count": 214,
   "metadata": {},
   "outputs": [
    {
     "data": {
      "text/plain": [
       "baixo risco    157\n",
       "alto risco      32\n",
       "medio risco     12\n",
       "Name: risco, dtype: int64"
      ]
     },
     "execution_count": 214,
     "metadata": {},
     "output_type": "execute_result"
    }
   ],
   "source": [
    "df['risco'].value_counts()"
   ]
  },
  {
   "cell_type": "code",
   "execution_count": 216,
   "metadata": {},
   "outputs": [],
   "source": [
    "X = df.drop(['data', 'risco','ano'], axis=1)"
   ]
  },
  {
   "cell_type": "code",
   "execution_count": 217,
   "metadata": {},
   "outputs": [],
   "source": [
    "y = df['risco']"
   ]
  },
  {
   "cell_type": "code",
   "execution_count": 218,
   "metadata": {},
   "outputs": [],
   "source": [
    "from sklearn.preprocessing import StandardScaler"
   ]
  },
  {
   "cell_type": "code",
   "execution_count": 219,
   "metadata": {},
   "outputs": [],
   "source": [
    "scaler = StandardScaler()"
   ]
  },
  {
   "cell_type": "code",
   "execution_count": 221,
   "metadata": {},
   "outputs": [],
   "source": [
    "from sklearn.model_selection import GridSearchCV\n",
    "from sklearn.svm import SVC\n",
    "from sklearn.model_selection import train_test_split"
   ]
  },
  {
   "cell_type": "code",
   "execution_count": 302,
   "metadata": {},
   "outputs": [],
   "source": [
    "X_train, X_test, y_train, y_test = train_test_split(X, y, test_size=0.4, random_state=42)"
   ]
  },
  {
   "cell_type": "code",
   "execution_count": 303,
   "metadata": {},
   "outputs": [],
   "source": [
    "X_train = scaler.fit_transform(X_train)"
   ]
  },
  {
   "cell_type": "code",
   "execution_count": 304,
   "metadata": {},
   "outputs": [],
   "source": [
    "X_test = scaler.transform(X_test)"
   ]
  },
  {
   "cell_type": "code",
   "execution_count": 305,
   "metadata": {},
   "outputs": [],
   "source": [
    "param_grid = {'C':[0.01,0.1,1,2,3,4,5], 'kernel':['linear', 'rbf']}"
   ]
  },
  {
   "cell_type": "code",
   "execution_count": 306,
   "metadata": {},
   "outputs": [],
   "source": [
    "svm = SVC(class_weight='balanced')"
   ]
  },
  {
   "cell_type": "code",
   "execution_count": 307,
   "metadata": {},
   "outputs": [],
   "source": [
    "svm_model=GridSearchCV(svm, param_grid)"
   ]
  },
  {
   "cell_type": "code",
   "execution_count": 308,
   "metadata": {},
   "outputs": [
    {
     "data": {
      "text/plain": [
       "GridSearchCV(estimator=SVC(class_weight='balanced'),\n",
       "             param_grid={'C': [0.01, 0.1, 1, 2, 3, 4, 5],\n",
       "                         'kernel': ['linear', 'rbf']})"
      ]
     },
     "execution_count": 308,
     "metadata": {},
     "output_type": "execute_result"
    }
   ],
   "source": [
    "svm_model.fit(X_train, y_train)"
   ]
  },
  {
   "cell_type": "code",
   "execution_count": 309,
   "metadata": {},
   "outputs": [],
   "source": [
    "y_pred = svm_model.predict(X_test)"
   ]
  },
  {
   "cell_type": "code",
   "execution_count": 310,
   "metadata": {},
   "outputs": [],
   "source": [
    "from sklearn.metrics import confusion_matrix,classification_report,plot_confusion_matrix"
   ]
  },
  {
   "cell_type": "code",
   "execution_count": 311,
   "metadata": {},
   "outputs": [
    {
     "data": {
      "text/plain": [
       "array([[ 8,  0,  0],\n",
       "       [ 0, 69,  0],\n",
       "       [ 1,  0,  3]], dtype=int64)"
      ]
     },
     "execution_count": 311,
     "metadata": {},
     "output_type": "execute_result"
    }
   ],
   "source": [
    "confusion_matrix(y_test, y_pred)"
   ]
  },
  {
   "cell_type": "code",
   "execution_count": 312,
   "metadata": {},
   "outputs": [
    {
     "data": {
      "text/plain": [
       "<sklearn.metrics._plot.confusion_matrix.ConfusionMatrixDisplay at 0x1e2361e7f70>"
      ]
     },
     "execution_count": 312,
     "metadata": {},
     "output_type": "execute_result"
    },
    {
     "data": {
      "image/png": "[encoded data removed]",
      "text/plain": [
       "<Figure size 432x288 with 2 Axes>"
      ]
     },
     "metadata": {
      "needs_background": "light"
     },
     "output_type": "display_data"
    }
   ],
   "source": [
    "plot_confusion_matrix(svm_model, X_test, y_test)"
   ]
  },
  {
   "cell_type": "code",
   "execution_count": 313,
   "metadata": {},
   "outputs": [
    {
     "name": "stdout",
     "output_type": "stream",
     "text": [
      "              precision    recall  f1-score   support\n",
      "\n",
      "  alto risco       0.89      1.00      0.94         8\n",
      " baixo risco       1.00      1.00      1.00        69\n",
      " medio risco       1.00      0.75      0.86         4\n",
      "\n",
      "    accuracy                           0.99        81\n",
      "   macro avg       0.96      0.92      0.93        81\n",
      "weighted avg       0.99      0.99      0.99        81\n",
      "\n"
     ]
    }
   ],
   "source": [
    "print(classification_report(y_test, y_pred))"
   ]
  },
  {
   "cell_type": "code",
   "execution_count": null,
   "metadata": {},
   "outputs": [],
   "source": []
  },
  {
   "cell_type": "code",
   "execution_count": null,
   "metadata": {},
   "outputs": [],
   "source": []
  }
 ],
 "metadata": {
  "kernelspec": {
   "display_name": "Python 3",
   "language": "python",
   "name": "python3"
  },
  "language_info": {
   "codemirror_mode": {
    "name": "ipython",
    "version": 3
   },
   "file_extension": ".py",
   "mimetype": "text/x-python",
   "name": "python",
   "nbconvert_exporter": "python",
   "pygments_lexer": "ipython3",
   "version": "3.8.5"
  }
 },
 "nbformat": 4,
 "nbformat_minor": 4
}
